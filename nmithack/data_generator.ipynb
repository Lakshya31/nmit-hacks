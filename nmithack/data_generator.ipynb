{
 "cells": [
  {
   "cell_type": "code",
   "execution_count": 20,
   "metadata": {},
   "outputs": [],
   "source": [
    "import pandas as pd\n",
    "import numpy as np\n",
    "import json\n",
    "import random"
   ]
  },
  {
   "cell_type": "code",
   "execution_count": 5,
   "metadata": {},
   "outputs": [],
   "source": [
    "#generating ppl data for passengers based on the stops\n",
    "df = pd.read_csv(\"C:\\\\Users\\\\Surendran Nambiar\\\\Desktop\\\\datsets\\\\learning\\\\bmtc_dump.csv\")"
   ]
  },
  {
   "cell_type": "code",
   "execution_count": 6,
   "metadata": {},
   "outputs": [
    {
     "data": {
      "text/html": [
       "<div>\n",
       "<style scoped>\n",
       "    .dataframe tbody tr th:only-of-type {\n",
       "        vertical-align: middle;\n",
       "    }\n",
       "\n",
       "    .dataframe tbody tr th {\n",
       "        vertical-align: top;\n",
       "    }\n",
       "\n",
       "    .dataframe thead th {\n",
       "        text-align: right;\n",
       "    }\n",
       "</style>\n",
       "<table border=\"1\" class=\"dataframe\">\n",
       "  <thead>\n",
       "    <tr style=\"text-align: right;\">\n",
       "      <th></th>\n",
       "      <th>route_no</th>\n",
       "      <th>distance</th>\n",
       "      <th>origin</th>\n",
       "      <th>destination</th>\n",
       "      <th>departure_from_origin</th>\n",
       "      <th>arrival_at_origin</th>\n",
       "      <th>departure_from_destination</th>\n",
       "      <th>arrival_at_destination</th>\n",
       "      <th>map_json_content</th>\n",
       "    </tr>\n",
       "  </thead>\n",
       "  <tbody>\n",
       "    <tr>\n",
       "      <th>0</th>\n",
       "      <td>1</td>\n",
       "      <td>19.6 KM</td>\n",
       "      <td>Jayanagara 9th Block</td>\n",
       "      <td>Yeshwanathapura new railway station</td>\n",
       "      <td>07:35,  08:15,  08:55,  10:40,  11:20,  12:00,...</td>\n",
       "      <td>10:10, 10:50, 11:55, 13:15, 13:55, 14:35, 15:5...</td>\n",
       "      <td>08:55, 09:35, 10:40, 12:00, 12:40, 13:20, 14:4...</td>\n",
       "      <td>08:50,  09:30,  10:10,  11:55,  12:35,  13:15,...</td>\n",
       "      <td>[{\"busstop\": \"Jayanagara 9th Block,JAYANAGARA ...</td>\n",
       "    </tr>\n",
       "    <tr>\n",
       "      <th>1</th>\n",
       "      <td>1E</td>\n",
       "      <td>20.8 KM</td>\n",
       "      <td>JPNagara 6th Phase</td>\n",
       "      <td>Chowdeshwari Bus Stand JP Park</td>\n",
       "      <td>07:20,  10:45,  17:30,  21:00</td>\n",
       "      <td>07:15, 10:15, 17:00, 20:30</td>\n",
       "      <td>05:30, 08:50, 15:35, 19:00</td>\n",
       "      <td>08:45,  12:20,  18:55,  22:25</td>\n",
       "      <td>[{\"busstop\": \"JPNagara 6th Phase,JP NAGARA 6TH...</td>\n",
       "    </tr>\n",
       "    <tr>\n",
       "      <th>2</th>\n",
       "      <td>1F</td>\n",
       "      <td>11.5 KM</td>\n",
       "      <td>BTM Layout</td>\n",
       "      <td>Krishnarajendra Market</td>\n",
       "      <td>08:20,  10:10,  12:25,  14:15,  16:25,  18:10</td>\n",
       "      <td>10:05, 12:20, 14:10, 15:55, 18:05, 19:55</td>\n",
       "      <td>09:15, 11:30, 13:20, 15:10, 17:15, 19:05</td>\n",
       "      <td>09:10,  11:00,  13:15,  15:05,  17:10,  19:00</td>\n",
       "      <td>[{\"busstop\": \"BTM Layout,BTM Layout 2nd Stage,...</td>\n",
       "    </tr>\n",
       "    <tr>\n",
       "      <th>3</th>\n",
       "      <td>CCC-1</td>\n",
       "      <td>15.4 KM</td>\n",
       "      <td>City Civil Court</td>\n",
       "      <td>City Civil Court</td>\n",
       "      <td>09:05,  10:05,  11:05,  12:30,  13:30,  14:30,...</td>\n",
       "      <td>10:00, 11:00, 12:00, 13:25, 14:25, 15:25, 16:2...</td>\n",
       "      <td>09:05, 10:05, 11:05, 12:30, 13:30, 14:30, 15:3...</td>\n",
       "      <td>10:00,  11:00,  12:00,  13:25,  14:25,  15:25,...</td>\n",
       "      <td>[{\"busstop\": \"City Civil Court\", \"latlons\": [\"...</td>\n",
       "    </tr>\n",
       "    <tr>\n",
       "      <th>4</th>\n",
       "      <td>FDR-1</td>\n",
       "      <td>19 KM</td>\n",
       "      <td>Vasanthapura</td>\n",
       "      <td>Vasanthapura</td>\n",
       "      <td>05:30,  06:05,  06:15,  06:40,  07:15,  07:25,...</td>\n",
       "      <td>06:35, 07:10, 07:20, 07:45, 08:20, 08:30, 08:4...</td>\n",
       "      <td>05:30, 06:05, 06:15, 06:40, 07:15, 07:25, 07:4...</td>\n",
       "      <td>06:35,  07:10,  07:20,  07:45,  08:20,  08:30,...</td>\n",
       "      <td>[{\"busstop\": \"Vasanthapura,VASANTHAPURA,IN FRO...</td>\n",
       "    </tr>\n",
       "  </tbody>\n",
       "</table>\n",
       "</div>"
      ],
      "text/plain": [
       "  route_no distance                origin  \\\n",
       "0        1  19.6 KM  Jayanagara 9th Block   \n",
       "1       1E  20.8 KM    JPNagara 6th Phase   \n",
       "2       1F  11.5 KM            BTM Layout   \n",
       "3    CCC-1  15.4 KM      City Civil Court   \n",
       "4    FDR-1    19 KM          Vasanthapura   \n",
       "\n",
       "                           destination  \\\n",
       "0  Yeshwanathapura new railway station   \n",
       "1       Chowdeshwari Bus Stand JP Park   \n",
       "2               Krishnarajendra Market   \n",
       "3                     City Civil Court   \n",
       "4                         Vasanthapura   \n",
       "\n",
       "                               departure_from_origin  \\\n",
       "0  07:35,  08:15,  08:55,  10:40,  11:20,  12:00,...   \n",
       "1                      07:20,  10:45,  17:30,  21:00   \n",
       "2      08:20,  10:10,  12:25,  14:15,  16:25,  18:10   \n",
       "3  09:05,  10:05,  11:05,  12:30,  13:30,  14:30,...   \n",
       "4  05:30,  06:05,  06:15,  06:40,  07:15,  07:25,...   \n",
       "\n",
       "                                   arrival_at_origin  \\\n",
       "0  10:10, 10:50, 11:55, 13:15, 13:55, 14:35, 15:5...   \n",
       "1                         07:15, 10:15, 17:00, 20:30   \n",
       "2           10:05, 12:20, 14:10, 15:55, 18:05, 19:55   \n",
       "3  10:00, 11:00, 12:00, 13:25, 14:25, 15:25, 16:2...   \n",
       "4  06:35, 07:10, 07:20, 07:45, 08:20, 08:30, 08:4...   \n",
       "\n",
       "                          departure_from_destination  \\\n",
       "0  08:55, 09:35, 10:40, 12:00, 12:40, 13:20, 14:4...   \n",
       "1                         05:30, 08:50, 15:35, 19:00   \n",
       "2           09:15, 11:30, 13:20, 15:10, 17:15, 19:05   \n",
       "3  09:05, 10:05, 11:05, 12:30, 13:30, 14:30, 15:3...   \n",
       "4  05:30, 06:05, 06:15, 06:40, 07:15, 07:25, 07:4...   \n",
       "\n",
       "                              arrival_at_destination  \\\n",
       "0  08:50,  09:30,  10:10,  11:55,  12:35,  13:15,...   \n",
       "1                      08:45,  12:20,  18:55,  22:25   \n",
       "2      09:10,  11:00,  13:15,  15:05,  17:10,  19:00   \n",
       "3  10:00,  11:00,  12:00,  13:25,  14:25,  15:25,...   \n",
       "4  06:35,  07:10,  07:20,  07:45,  08:20,  08:30,...   \n",
       "\n",
       "                                    map_json_content  \n",
       "0  [{\"busstop\": \"Jayanagara 9th Block,JAYANAGARA ...  \n",
       "1  [{\"busstop\": \"JPNagara 6th Phase,JP NAGARA 6TH...  \n",
       "2  [{\"busstop\": \"BTM Layout,BTM Layout 2nd Stage,...  \n",
       "3  [{\"busstop\": \"City Civil Court\", \"latlons\": [\"...  \n",
       "4  [{\"busstop\": \"Vasanthapura,VASANTHAPURA,IN FRO...  "
      ]
     },
     "execution_count": 6,
     "metadata": {},
     "output_type": "execute_result"
    }
   ],
   "source": [
    "df.head()"
   ]
  },
  {
   "cell_type": "code",
   "execution_count": 7,
   "metadata": {},
   "outputs": [],
   "source": [
    "def get_sec(time_str):\n",
    "        \"\"\"Get Seconds from time.\"\"\"\n",
    "        h, m, s = time_str.split(':')\n",
    "        return int(h) * 3600 + int(m) * 60 + int(s)"
   ]
  },
  {
   "cell_type": "code",
   "execution_count": 9,
   "metadata": {},
   "outputs": [
    {
     "data": {
      "text/plain": [
       "82800"
      ]
     },
     "execution_count": 9,
     "metadata": {},
     "output_type": "execute_result"
    }
   ],
   "source": [
    "get_sec(\"23:00:00\")"
   ]
  },
  {
   "cell_type": "code",
   "execution_count": 22,
   "metadata": {},
   "outputs": [],
   "source": [
    "#universal crowd set\n",
    "crowd={}#universal crowd holder\n",
    "time_duration=(15)*60#seconds"
   ]
  },
  {
   "cell_type": "code",
   "execution_count": 15,
   "metadata": {},
   "outputs": [],
   "source": [
    " def generate_crowd(stops):\n",
    "        crowd={}\n",
    "        for i in range(len(stops)):\n",
    "            #lowerlimit to accomodate peak hour demand\n",
    "            lowerlimit=1\n",
    "            #handling peak hour crowd\n",
    "            if (time>=28800 and time<=36000) or (time>=64800 and time<=72000):\n",
    "                lowerlimit=50\n",
    "            numberofpeople=random.randrange(lowerlimit,200)\n",
    "            people=[]\n",
    "            #generating random crowd just like ticket data\n",
    "            for j in range(numberofpeople):\n",
    "                destination={}\n",
    "                destination['destination']=stops[random.randrange(i,len(stops))]\n",
    "                people.append(destination)\n",
    "            crowd[stops[i]['busstop']]=people\n",
    "        return crowd"
   ]
  },
  {
   "cell_type": "code",
   "execution_count": 34,
   "metadata": {},
   "outputs": [],
   "source": [
    "#function to create the dataset\n",
    "def create_crowd(data):\n",
    "    for i in range(len(data)):\n",
    "        temp_time_crowd=None\n",
    "        end_time=82800\n",
    "        current_time=14400\n",
    "        _temp=df.loc[i]['map_json_content']\n",
    "        try:\n",
    "            _temp=json.loads(_temp)\n",
    "            while current_time<=end_time:\n",
    "                    temp_crowd=generate_crowd(_temp,current_time)\n",
    "    #                 for k in temp_crowd:\n",
    "\n",
    "                    #adding it per timing\n",
    "                    if current_time in crowd:\n",
    "    #                     print(\"asdasd\")\n",
    "                        for k in temp_crowd:\n",
    "                            if k in crowd[current_time]:\n",
    "                                crowd[current_time][k]+=temp_crowd[k]\n",
    "                    else:\n",
    "                        crowd[current_time] = temp_crowd\n",
    "\n",
    "    #                 print(temp_crowd)\n",
    "                    current_time+=time_duration\n",
    "        except TypeError:\n",
    "            print(\"problem\")\n",
    "        if i%100==0:\n",
    "            print(i)"
   ]
  },
  {
   "cell_type": "code",
   "execution_count": null,
   "metadata": {
    "scrolled": false
   },
   "outputs": [
    {
     "name": "stdout",
     "output_type": "stream",
     "text": [
      "0\n",
      "problem\n",
      "100\n",
      "200\n",
      "300\n",
      "problem\n",
      "400\n",
      "problem\n",
      "500\n",
      "600\n",
      "700\n",
      "800\n",
      "900\n",
      "1000\n",
      "problem\n",
      "1100\n",
      "problem\n",
      "1200\n",
      "1300\n",
      "1400\n",
      "1500\n",
      "1600\n",
      "1700\n",
      "1800\n",
      "1900\n",
      "problem\n"
     ]
    }
   ],
   "source": [
    "create_crowd(df)"
   ]
  },
  {
   "cell_type": "code",
   "execution_count": null,
   "metadata": {},
   "outputs": [],
   "source": [
    "crowd.keys()"
   ]
  },
  {
   "cell_type": "code",
   "execution_count": null,
   "metadata": {},
   "outputs": [],
   "source": [
    "fp = open(\"crowd.json\",\"w\")\n",
    "fp.write(json.dumps(crowd))"
   ]
  },
  {
   "cell_type": "code",
   "execution_count": null,
   "metadata": {},
   "outputs": [],
   "source": [
    "fp.close()"
   ]
  }
 ],
 "metadata": {
  "kernelspec": {
   "display_name": "Python 3",
   "language": "python",
   "name": "python3"
  },
  "language_info": {
   "codemirror_mode": {
    "name": "ipython",
    "version": 3
   },
   "file_extension": ".py",
   "mimetype": "text/x-python",
   "name": "python",
   "nbconvert_exporter": "python",
   "pygments_lexer": "ipython3",
   "version": "3.7.3"
  }
 },
 "nbformat": 4,
 "nbformat_minor": 2
}
